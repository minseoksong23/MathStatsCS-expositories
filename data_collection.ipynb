{
 "cells": [
  {
   "cell_type": "code",
   "execution_count": 10,
   "metadata": {},
   "outputs": [],
   "source": [
    "import requests\n",
    "import xml.etree.ElementTree as ET\n",
    "import time\n",
    "\n",
    "def data_collection(start_date, last_date, subject):\n",
    "    # Specify the base URL of the OAI-PMH interface\n",
    "    base_url = 'http://export.arxiv.org/oai2'\n",
    "\n",
    "    # Specify the verb\n",
    "    verb = 'ListRecords'\n",
    "\n",
    "    # Specify the metadata format\n",
    "    metadata_prefix = 'oai_dc'\n",
    "\n",
    "    # Formulate the URL\n",
    "    url = 'http://export.arxiv.org/oai2?verb=ListRecords&set=math&metadataPrefix=oai_dc&from=2009-01-01&until=2009-12-31'\n",
    "\n",
    "    # An empty list to hold all the XML responses\n",
    "    responses = []\n",
    "\n",
    "    while url is not None:\n",
    "        # Send the GET request\n",
    "        response = requests.get(url)\n",
    "\n",
    "        # If the request was successful, parse the data\n",
    "        if response.status_code == 200:\n",
    "            responses.append(response.text)\n",
    "            root = ET.fromstring(response.text)\n",
    "            token_element = root.find('.//{http://www.openarchives.org/OAI/2.0/}resumptionToken')\n",
    "            if token_element is not None:\n",
    "                token = token_element.text\n",
    "                # Form the new url using the resumption token\n",
    "                url = f'{base_url}?verb={verb}&resumptionToken={token}'\n",
    "                print(token)\n",
    "            else:\n",
    "                url = None  # No more pages\n",
    "        else:\n",
    "            print(f'Request failed with status code {response.status_code}')\n",
    "            url = None  # Exit the loop\n",
    "        time.sleep(5)\n",
    "    return responses"
   ]
  },
  {
   "cell_type": "code",
   "execution_count": 11,
   "metadata": {},
   "outputs": [
    {
     "name": "stdout",
     "output_type": "stream",
     "text": [
      "Request failed with status code 503\n"
     ]
    },
    {
     "data": {
      "text/plain": [
       "[]"
      ]
     },
     "execution_count": 11,
     "metadata": {},
     "output_type": "execute_result"
    }
   ],
   "source": [
    "get_data('2009-01-01', '2009-12-31', 'math')"
   ]
  },
  {
   "cell_type": "code",
   "execution_count": null,
   "metadata": {},
   "outputs": [],
   "source": []
  },
  {
   "cell_type": "code",
   "execution_count": 2,
   "metadata": {},
   "outputs": [],
   "source": [
    "import pickle\n",
    "from datetime import datetime, timedelta\n",
    "\n",
    "def save_to_pickle(data, filename):\n",
    "    with open(filename, 'wb') as f:\n",
    "        pickle.dump(data, f)\n",
    "\n",
    "# Generate range of years\n",
    "start_year = 2009\n",
    "end_year = datetime.now().year  # Current year\n",
    "years = list(range(start_year, end_year + 1))\n",
    "\n",
    "# Loop over years\n",
    "for year in years:\n",
    "    start_date = f'{year}-01-01'\n",
    "    if year == end_year:\n",
    "        end_date = f'{year}-07-31'\n",
    "    else:\n",
    "        end_date = f'{year}-12-31'\n",
    "    \n",
    "    # Get data\n",
    "    responses = get_data(start_date, end_date, 'math')\n",
    "    \n",
    "    # Save responses to pickle\n",
    "    filename = f'responses_{year}.pkl'\n",
    "    save_to_pickle(responses, filename)\n",
    "\n",
    "    # Avoid rate limit\n",
    "    time.sleep(5)  # Adjust this delay as necessary\n"
   ]
  }
 ],
 "metadata": {
  "kernelspec": {
   "display_name": "MinSeokSong",
   "language": "python",
   "name": "python3"
  },
  "language_info": {
   "codemirror_mode": {
    "name": "ipython",
    "version": 3
   },
   "file_extension": ".py",
   "mimetype": "text/x-python",
   "name": "python",
   "nbconvert_exporter": "python",
   "pygments_lexer": "ipython3",
   "version": "3.9.16"
  },
  "orig_nbformat": 4
 },
 "nbformat": 4,
 "nbformat_minor": 2
}
